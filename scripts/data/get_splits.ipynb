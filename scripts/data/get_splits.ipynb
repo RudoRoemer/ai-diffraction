{
 "cells": [
  {
   "cell_type": "code",
   "execution_count": 21,
   "metadata": {},
   "outputs": [],
   "source": [
    "import numpy as np\n",
    "import os\n",
    "from pathlib import Path"
   ]
  },
  {
   "cell_type": "code",
   "execution_count": 22,
   "metadata": {},
   "outputs": [],
   "source": [
    "dataroot1 = \"../../datasets/patterns-primary\"\n",
    "dataroot2 = \"../../datasets/patterns-secondary\"\n",
    "splits = \"../../data/splits/patterns-primary+secondary\""
   ]
  },
  {
   "cell_type": "code",
   "execution_count": 23,
   "metadata": {},
   "outputs": [],
   "source": [
    "os.makedirs(splits, exist_ok=True)"
   ]
  },
  {
   "cell_type": "code",
   "execution_count": 24,
   "metadata": {},
   "outputs": [],
   "source": [
    "np.random.seed(42)"
   ]
  },
  {
   "cell_type": "code",
   "execution_count": 25,
   "metadata": {},
   "outputs": [],
   "source": [
    "codes = np.array(os.listdir(dataroot1) + os.listdir(dataroot2))\n",
    "\n",
    "ratios = np.array([0.80, 0.10, 0.10])\n",
    "size = len(codes)\n",
    "limits = np.ceil(np.cumsum(ratios * size)).astype(int)\n",
    "\n",
    "for i in range(20):\n",
    "    np.random.shuffle(codes)\n",
    "    train = codes[:limits[0]]\n",
    "    val = codes[limits[0]:limits[1]]\n",
    "    test = codes[limits[1]:limits[2]]\n",
    "    \n",
    "    os.makedirs(os.path.join(splits, f\"{i}\"), exist_ok=True)\n",
    "    np.savetxt(os.path.join(splits, f\"{i}\", \"train\"), train, delimiter = ',', fmt=r\"%s\")\n",
    "    np.savetxt(os.path.join(splits, f\"{i}\", \"val\"), val, delimiter = ',', fmt=r\"%s\")\n",
    "    np.savetxt(os.path.join(splits, f\"{i}\", \"test\"), test, delimiter = ',', fmt=r\"%s\")\n"
   ]
  }
 ],
 "metadata": {
  "kernelspec": {
   "display_name": "Python 3",
   "language": "python",
   "name": "python3"
  },
  "language_info": {
   "codemirror_mode": {
    "name": "ipython",
    "version": 3
   },
   "file_extension": ".py",
   "mimetype": "text/x-python",
   "name": "python",
   "nbconvert_exporter": "python",
   "pygments_lexer": "ipython3",
   "version": "3.12.5"
  }
 },
 "nbformat": 4,
 "nbformat_minor": 2
}
