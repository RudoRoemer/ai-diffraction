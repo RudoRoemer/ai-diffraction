{
 "cells": [
  {
   "cell_type": "code",
   "execution_count": 133,
   "metadata": {},
   "outputs": [],
   "source": [
    "import numpy as np\n",
    "import os\n",
    "from pathlib import Path"
   ]
  },
  {
   "cell_type": "code",
   "execution_count": 134,
   "metadata": {},
   "outputs": [],
   "source": [
    "dataroot = \"../../datasets/felix_output/500\"\n",
    "splits = \"../../data/splits\""
   ]
  },
  {
   "cell_type": "code",
   "execution_count": 135,
   "metadata": {},
   "outputs": [],
   "source": [
    "# splits_dir = os.path.join(splits, dataroot.split(\"/\")[-2])\n",
    "os.makedirs(splits_dir, exist_ok=True)"
   ]
  },
  {
   "cell_type": "code",
   "execution_count": 136,
   "metadata": {},
   "outputs": [],
   "source": [
    "np.random.seed(42)"
   ]
  },
  {
   "cell_type": "code",
   "execution_count": 137,
   "metadata": {},
   "outputs": [],
   "source": [
    "codes = np.array(os.listdir(dataroot))\n",
    "\n",
    "ratios = np.array([0.80, 0.10, 0.10])\n",
    "size = len(codes)\n",
    "limits = np.ceil(np.cumsum(ratios * size)).astype(int)\n",
    "\n",
    "for i in range(10):\n",
    "    np.random.shuffle(codes)\n",
    "    train = codes[:limits[0]]\n",
    "    val = codes[limits[0]:limits[1]]\n",
    "    test = codes[limits[1]:limits[2]]\n",
    "    \n",
    "    os.makedirs(os.path.join(splits, f\"{i}\"), exist_ok=True)\n",
    "    np.savetxt(os.path.join(splits, f\"{i}\", \"train\"), train, delimiter = ',', fmt=r\"%s\")\n",
    "    np.savetxt(os.path.join(splits, f\"{i}\", \"val\"), val, delimiter = ',', fmt=r\"%s\")\n",
    "    np.savetxt(os.path.join(splits, f\"{i}\", \"test\"), test, delimiter = ',', fmt=r\"%s\")\n",
    "    \n"
   ]
  }
 ],
 "metadata": {
  "kernelspec": {
   "display_name": "Python 3",
   "language": "python",
   "name": "python3"
  },
  "language_info": {
   "codemirror_mode": {
    "name": "ipython",
    "version": 3
   },
   "file_extension": ".py",
   "mimetype": "text/x-python",
   "name": "python",
   "nbconvert_exporter": "python",
   "pygments_lexer": "ipython3",
   "version": "3.12.4"
  }
 },
 "nbformat": 4,
 "nbformat_minor": 2
}
