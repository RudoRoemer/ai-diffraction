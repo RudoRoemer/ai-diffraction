{
 "cells": [
  {
   "cell_type": "code",
   "execution_count": 73,
   "metadata": {},
   "outputs": [],
   "source": [
    "import numpy as np\n",
    "import os\n",
    "from pathlib import Path"
   ]
  },
  {
   "cell_type": "code",
   "execution_count": 74,
   "metadata": {},
   "outputs": [],
   "source": [
    "dataroot1 = \"../../datasets/patterns-primary\"\n",
    "dataroot2 = \"../../datasets/patterns-secondary\""
   ]
  },
  {
   "cell_type": "code",
   "execution_count": 76,
   "metadata": {},
   "outputs": [],
   "source": [
    "codes = np.array(os.listdir(dataroot1) + os.listdir(dataroot2))\n",
    "splits = \"../../data/splits/patterns-primary+secondary\"\n",
    "\n",
    "# codes = np.array(os.listdir(dataroot1))\n",
    "# splits = \"../../data/splits/patterns-primary\"\n",
    "\n",
    "np.random.seed(42)\n",
    "np.random.shuffle(codes)\n",
    "\n",
    "size = len(codes)\n",
    "\n",
    "for i in range(10):\n",
    "    test = codes[np.ceil(size * 0.1 * i).astype(int):np.ceil(size * 0.1 * (i+1)).astype(int)]\n",
    "    train = list(set(codes)-set(test))\n",
    "\n",
    "    os.makedirs(os.path.join(splits, f\"{i}\"), exist_ok=True)\n",
    "    np.savetxt(os.path.join(splits, f\"{i}\", \"train\"), train, delimiter = ',', fmt=r\"%s\")\n",
    "    np.savetxt(os.path.join(splits, f\"{i}\", \"test\"), test, delimiter = ',', fmt=r\"%s\")\n"
   ]
  }
 ],
 "metadata": {
  "kernelspec": {
   "display_name": "Python 3",
   "language": "python",
   "name": "python3"
  },
  "language_info": {
   "codemirror_mode": {
    "name": "ipython",
    "version": 3
   },
   "file_extension": ".py",
   "mimetype": "text/x-python",
   "name": "python",
   "nbconvert_exporter": "python",
   "pygments_lexer": "ipython3",
   "version": "3.12.5"
  }
 },
 "nbformat": 4,
 "nbformat_minor": 2
}
