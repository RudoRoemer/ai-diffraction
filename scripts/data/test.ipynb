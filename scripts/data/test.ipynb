{
 "cells": [
  {
   "cell_type": "code",
   "execution_count": 3,
   "metadata": {},
   "outputs": [
    {
     "name": "stdout",
     "output_type": "stream",
     "text": [
      "[-4, 0, 0]\n",
      "[0, -4, 0]\n",
      "[-4, -4, 0]\n",
      "[-3, 0, 0]\n",
      "[0, -3, 0]\n",
      "[-3, -3, 0]\n",
      "[-2, 0, 0]\n",
      "[0, -2, 0]\n",
      "[-2, -2, 0]\n",
      "[-1, 0, 0]\n",
      "[0, -1, 0]\n",
      "[-1, -1, 0]\n",
      "[0, 0, 0]\n",
      "[1, 0, 0]\n",
      "[0, 1, 0]\n",
      "[1, 1, 0]\n",
      "[2, 0, 0]\n",
      "[0, 2, 0]\n",
      "[2, 2, 0]\n",
      "[3, 0, 0]\n",
      "[0, 3, 0]\n",
      "[3, 3, 0]\n",
      "[4, 0, 0]\n",
      "[0, 4, 0]\n",
      "[4, 4, 0]\n"
     ]
    }
   ],
   "source": [
    "for i in range(-4, 5):\n",
    "    if i == 0:\n",
    "        print(f\"[0, 0, 0]\")\n",
    "    else:\n",
    "        print(f\"[{i}, 0, 0]\")\n",
    "        print(f\"[0, {i}, 0]\")\n",
    "        print(f\"[{i}, {i}, 0]\")"
   ]
  }
 ],
 "metadata": {
  "kernelspec": {
   "display_name": "Python 3",
   "language": "python",
   "name": "python3"
  },
  "language_info": {
   "codemirror_mode": {
    "name": "ipython",
    "version": 3
   },
   "file_extension": ".py",
   "mimetype": "text/x-python",
   "name": "python",
   "nbconvert_exporter": "python",
   "pygments_lexer": "ipython3",
   "version": "3.12.4"
  }
 },
 "nbformat": 4,
 "nbformat_minor": 2
}
