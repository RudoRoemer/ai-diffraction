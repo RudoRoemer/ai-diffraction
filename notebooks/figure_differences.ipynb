{
 "cells": [
  {
   "cell_type": "code",
   "execution_count": 34,
   "metadata": {},
   "outputs": [],
   "source": [
    "import numpy as np\n",
    "import pandas as pd\n",
    "import os\n",
    "import cv2\n",
    "from pathlib import Path\n",
    "import matplotlib as mpl\n",
    "import matplotlib.pyplot as plt\n",
    "import re\n",
    "#\n",
    "import scienceplots\n",
    "from cmcrameri import cm"
   ]
  },
  {
   "cell_type": "code",
   "execution_count": 4,
   "metadata": {},
   "outputs": [],
   "source": [
    "plt.style.use(['science', 'grid'])"
   ]
  },
  {
   "cell_type": "code",
   "execution_count": 8,
   "metadata": {},
   "outputs": [],
   "source": [
    "df = pd.read_csv(\"data.csv\")\n",
    "# Ensure we are testing diffraction pattern data\n",
    "df = df.loc[df.seed.str.match('^pattern.*')]\n",
    "\n",
    "groups = sorted(df.group.unique())\n",
    "space_groups = pd.read_csv(\"space_groups.csv\", index_col=\"ICSD_code\").to_dict()[\"space_group\"]"
   ]
  },
  {
   "cell_type": "code",
   "execution_count": 32,
   "metadata": {},
   "outputs": [],
   "source": [
    "dataset_dir = \"../datasets/FDP\"\n",
    "results_dir = \"../results\"\n",
    "\n",
    "differences = {group: np.zeros((128, 128)) for group in groups}\n",
    "differences_counts = {group: 0 for group in groups}\n",
    "\n",
    "for index, row in df.iterrows():\n",
    "    code = row[\"code\"]\n",
    "    group = row[\"group\"]\n",
    "    seed = row[\"seed\"]\n",
    "    phase = row[\"phase\"]\n",
    "    epoch = row[\"epoch\"]\n",
    "    \n",
    "    if (phase == \"test\" or phase == \"val\") and epoch == 100:\n",
    "        fake = cv2.cvtColor(cv2.imread(\n",
    "            os.path.join(results_dir, seed, phase + \"_100\", \"images\", str(code) + \"_structure_synthesized_image.png\")\n",
    "        ), cv2.COLOR_BGR2GRAY) / 255\n",
    "        real = cv2.cvtColor(cv2.imread(\n",
    "            os.path.join(dataset_dir, str(code), str(code) + \"_+0+0+0.png\")\n",
    "        ), cv2.COLOR_BGR2GRAY) / 255\n",
    "        \n",
    "        diff = (real - fake)**2\n",
    "        \n",
    "        differences[group] += diff\n",
    "        differences_counts[group] += 1\n",
    "\n",
    "for group in groups:\n",
    "    differences[group] /= differences_counts[group]"
   ]
  },
  {
   "cell_type": "code",
   "execution_count": 41,
   "metadata": {},
   "outputs": [],
   "source": [
    "cmap = cm.managua_r"
   ]
  },
  {
   "cell_type": "code",
   "execution_count": 56,
   "metadata": {},
   "outputs": [],
   "source": [
    "results_dirs = [os.path.join(\"../results\", d) for d in os.listdir(\"../results\") if re.match('^pattern.*', d)]\n",
    "dataset_dir = \"../datasets/FDP\"\n",
    "\n",
    "for group in groups:\n",
    "    image = differences[group]\n",
    "    image_colour = cmap(image)\n",
    "    image_colour\n",
    "    output = os.path.join(\"figures\", \"group differences\")\n",
    "    Path(output).mkdir(parents=True, exist_ok=True)\n",
    "\n",
    "    cv2.imwrite(os.path.join(output, group + \".png\"), image_colour * 255)"
   ]
  }
 ],
 "metadata": {
  "kernelspec": {
   "display_name": "Python 3",
   "language": "python",
   "name": "python3"
  },
  "language_info": {
   "codemirror_mode": {
    "name": "ipython",
    "version": 3
   },
   "file_extension": ".py",
   "mimetype": "text/x-python",
   "name": "python",
   "nbconvert_exporter": "python",
   "pygments_lexer": "ipython3",
   "version": "3.12.1"
  }
 },
 "nbformat": 4,
 "nbformat_minor": 2
}
