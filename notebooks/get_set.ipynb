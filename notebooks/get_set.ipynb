{
 "cells": [
  {
   "cell_type": "code",
   "execution_count": 82,
   "metadata": {},
   "outputs": [],
   "source": [
    "import os\n",
    "import cv2"
   ]
  },
  {
   "cell_type": "code",
   "execution_count": 83,
   "metadata": {},
   "outputs": [],
   "source": [
    "code = \"605805\"\n",
    "seed = \"CD/seed0_CD\"\n",
    "direction = \"CD\"\n",
    "epoch = \"latest\""
   ]
  },
  {
   "cell_type": "code",
   "execution_count": 84,
   "metadata": {},
   "outputs": [],
   "source": [
    "results_dir = f\"../results/{seed}\"\n",
    "# results_dir = f\"../results/{seed}_CD/\"\n",
    "dataset_dir = \"../datasets/FDP\""
   ]
  },
  {
   "cell_type": "code",
   "execution_count": 85,
   "metadata": {},
   "outputs": [],
   "source": [
    "def save3(code, seed, phase):\n",
    "    save_dir = f\"{code}_{phase}\"\n",
    "    print(save_dir)\n",
    "    # try:\n",
    "    os.mkdir(save_dir)\n",
    "    # except:\n",
    "        # pass\n",
    "    if direction == \"CD\":\n",
    "        fake = cv2.imread(os.path.join(results_dir, phase + \"_\" + epoch, \"images\", f\"{code}_structure_synthesized_image.png\"))\n",
    "    else:\n",
    "        fake = cv2.imread(os.path.join(results_dir, phase + \"_\" + epoch, \"images\", f\"{code}_+0+0+0_synthesized_image.png\"))\n",
    "    cv2.imwrite(save_dir + f\"/{code}_fake.png\", fake)\n",
    "    real = cv2.imread(os.path.join(dataset_dir, code, f\"{code}_+0+0+0.png\"))\n",
    "    real = cv2.normalize(real, None, 0, 255, norm_type=cv2.NORM_MINMAX)\n",
    "    cv2.imwrite(save_dir + f\"/{code}_real.png\", real)\n",
    "    structure = cv2.imread(os.path.join(dataset_dir, code, f\"{code}_structure.png\"))\n",
    "    structure = cv2.normalize(structure, None, 0, 255, norm_type=cv2.NORM_MINMAX)\n",
    "    cv2.imwrite(save_dir + f\"/{code}_stru.png\", structure)\n",
    "    print(\"saved\")"
   ]
  },
  {
   "cell_type": "code",
   "execution_count": 86,
   "metadata": {},
   "outputs": [
    {
     "name": "stdout",
     "output_type": "stream",
     "text": [
      "../results/CD/seed0_CD\\train_latest\\images\\605805_structure_synthesized_image.png\n",
      "../results/CD/seed0_CD\\test_latest\\images\\605805_structure_synthesized_image.png\n",
      "found\n",
      "605805_test\n",
      "saved\n",
      "ran\n",
      "../results/CD/seed0_CD\\val_latest\\images\\605805_structure_synthesized_image.png\n"
     ]
    }
   ],
   "source": [
    "for phase in (\"train\", \"test\", \"val\"):\n",
    "    if direction == \"CD\":\n",
    "        image_path = os.path.join(results_dir, phase + \"_\" + epoch, \"images\", f\"{code}_structure_synthesized_image.png\")\n",
    "    else:\n",
    "        image_path = os.path.join(results_dir, phase + \"_\" + epoch, \"images\", f\"{code}_+0+0+0_synthesized_image.png\")\n",
    "    print(image_path)\n",
    "    if os.path.exists(image_path):\n",
    "        print(\"found\")\n",
    "        save3(code, seed, phase)\n",
    "        print(\"ran\")\n",
    "        \n",
    "# for seed in os.listdir(results_dir):\n",
    "#     for phase in os.listdir(os.path.join(results_dir, seed)):\n",
    "#         for image_name in os.listdir(os.path.join(results_dir, seed, phase, \"images\")):\n",
    "#             if \"synthesized\" in image_name:\n",
    "#                 im = cv2.cvtColor(\n",
    "#                     cv2.imread(os.path.join(results_dir, seed, phase, \"images\", image_name)),\n",
    "#                     cv2.COLOR_BGR2GRAY\n",
    "#                 )\n",
    "#                 im = cv2.normalize(im, None, 0, 255, norm_type=cv2.NORM_MINMAX)\n",
    "#                 cv2.imwrite(os.path.join(results_dir, seed, phase, \"images\", image_name[:-4] + \".png\"), im)"
   ]
  }
 ],
 "metadata": {
  "kernelspec": {
   "display_name": "base",
   "language": "python",
   "name": "python3"
  },
  "language_info": {
   "codemirror_mode": {
    "name": "ipython",
    "version": 3
   },
   "file_extension": ".py",
   "mimetype": "text/x-python",
   "name": "python",
   "nbconvert_exporter": "python",
   "pygments_lexer": "ipython3",
   "version": "3.9.17"
  },
  "orig_nbformat": 4
 },
 "nbformat": 4,
 "nbformat_minor": 2
}
