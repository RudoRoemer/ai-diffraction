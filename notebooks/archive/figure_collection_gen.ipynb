{
 "cells": [
  {
   "cell_type": "code",
   "execution_count": 1,
   "metadata": {},
   "outputs": [],
   "source": [
    "import numpy as np\n",
    "import pandas as pd\n",
    "import os\n",
    "import cv2\n",
    "from pathlib import Path\n",
    "import re\n",
    "\n",
    "import matplotlib as mpl\n",
    "import matplotlib.pyplot as plt\n",
    "#\n",
    "import scienceplots\n",
    "from cmcrameri import cm\n"
   ]
  },
  {
   "cell_type": "code",
   "execution_count": 2,
   "metadata": {},
   "outputs": [],
   "source": [
    "cmap = cm.managua"
   ]
  },
  {
   "cell_type": "markdown",
   "metadata": {},
   "source": [
    "## Diffraction Patterns"
   ]
  },
  {
   "cell_type": "code",
   "execution_count": 3,
   "metadata": {},
   "outputs": [],
   "source": [
    "results_dirs = [os.path.join(\"../results\", d) for d in os.listdir(\"../results\") if re.match('^pattern.*', d)]\n",
    "dataset_dir = \"../datasets/FDP\"\n",
    "codes = [54390, 152259, 391131, 152794, 162198, 166923, 194751]\n",
    "\n",
    "for code in codes:\n",
    "    code = str(code)\n",
    "    \n",
    "    pattern = cv2.imread(os.path.join(dataset_dir, code, code + \"_+0+0+0.png\"))\n",
    "    structure = cv2.imread(os.path.join(dataset_dir, code, code + \"_structure.png\"))\n",
    "    generated = None\n",
    "    for results_dir in results_dirs:\n",
    "        for phase in (\"test_100\", \"val_100\"):\n",
    "            if generated is not None:\n",
    "                break\n",
    "            generated = cv2.imread(os.path.join(results_dir, phase, \"images\", code + \"_structure_synthesized_image.png\"))\n",
    "    \n",
    "    pattern_color = cmap(pattern[:, :, 0] / 255)[:, :, 0:3] * 255\n",
    "    structure_color = cmap(1 - structure[:, :, 0] / 255)[:, :, 0:3] * 255\n",
    "    generated_color = cmap(generated[:, :, 0] / 255)[:, :, 0:3] * 255\n",
    "    \n",
    "    output = os.path.join(\"figures\", code)\n",
    "    Path(output).mkdir(parents=True, exist_ok=True)\n",
    "\n",
    "    cv2.imwrite(os.path.join(output, \"pattern.png\"), pattern)\n",
    "    cv2.imwrite(os.path.join(output, \"structure.png\"), structure)\n",
    "    cv2.imwrite(os.path.join(output, \"generated_pattern.png\"), generated)\n",
    "    cv2.imwrite(os.path.join(output, \"pattern_color.png\"), pattern_color)\n",
    "    cv2.imwrite(os.path.join(output, \"structure_color.png\"), structure_color)\n",
    "    cv2.imwrite(os.path.join(output, \"generated_pattern_color.png\"), generated_color)"
   ]
  },
  {
   "cell_type": "markdown",
   "metadata": {},
   "source": [
    "## Charge Density"
   ]
  },
  {
   "cell_type": "code",
   "execution_count": 4,
   "metadata": {},
   "outputs": [],
   "source": [
    "results_dirs = [os.path.join(\"../results\", d) for d in os.listdir(\"../results\") if re.match('^structure.*', d)]\n",
    "dataset_dir = \"../datasets/FDP\"\n",
    "codes = [91052, 91224, 159768, 414383, 9633, 68301, 246965]\n",
    "\n",
    "for code in codes:\n",
    "    code = str(code)\n",
    "    \n",
    "    pattern = cv2.imread(os.path.join(dataset_dir, code, code + \"_+0+0+0.png\"))\n",
    "    structure = cv2.imread(os.path.join(dataset_dir, code, code + \"_structure.png\"))\n",
    "    generated = None\n",
    "    for results_dir in results_dirs:\n",
    "        for phase in (\"test_100\", \"val_100\"):\n",
    "            if generated is not None:\n",
    "                break\n",
    "            generated = cv2.imread(os.path.join(results_dir, phase, \"images\", code + \"_+0+0+0_synthesized_image.png\"))\n",
    "    \n",
    "    try:\n",
    "        pattern_color = cmap(pattern[:, :, 0] / 255)[:, :, 0:3] * 255\n",
    "        structure_color = cmap(1 - structure[:, :, 0] / 255)[:, :, 0:3] * 255\n",
    "\n",
    "        output = os.path.join(\"figures\", code)\n",
    "        Path(output).mkdir(parents=True, exist_ok=True)\n",
    "\n",
    "        cv2.imwrite(os.path.join(output, \"pattern.png\"), pattern)\n",
    "        cv2.imwrite(os.path.join(output, \"structure.png\"), structure)\n",
    "        cv2.imwrite(os.path.join(output, \"pattern_color.png\"), pattern_color)\n",
    "        cv2.imwrite(os.path.join(output, \"structure_color.png\"), structure_color)\n",
    "        \n",
    "        generated_color = cmap(1 - generated[:, :, 0] / 255)[:, :, 0:3] * 255\n",
    "        \n",
    "        cv2.imwrite(os.path.join(output, \"generated_structure.png\"), generated)\n",
    "        cv2.imwrite(os.path.join(output, \"generated_structure_color.png\"), generated_color)\n",
    "    except:\n",
    "        pass"
   ]
  }
 ],
 "metadata": {
  "kernelspec": {
   "display_name": "Python 3",
   "language": "python",
   "name": "python3"
  },
  "language_info": {
   "codemirror_mode": {
    "name": "ipython",
    "version": 3
   },
   "file_extension": ".py",
   "mimetype": "text/x-python",
   "name": "python",
   "nbconvert_exporter": "python",
   "pygments_lexer": "ipython3",
   "version": "3.12.2"
  }
 },
 "nbformat": 4,
 "nbformat_minor": 2
}
