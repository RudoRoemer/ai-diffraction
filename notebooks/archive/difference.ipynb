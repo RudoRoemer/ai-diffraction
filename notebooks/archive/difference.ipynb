{
 "cells": [
  {
   "cell_type": "code",
   "execution_count": 5,
   "metadata": {},
   "outputs": [],
   "source": [
    "import numpy as np\n",
    "import cv2\n",
    "import os"
   ]
  },
  {
   "cell_type": "code",
   "execution_count": 7,
   "metadata": {},
   "outputs": [],
   "source": [
    "difference_image = np.zeros((128, 128), dtype=np.float32)"
   ]
  },
  {
   "cell_type": "code",
   "execution_count": 8,
   "metadata": {},
   "outputs": [],
   "source": [
    "results_dir = \"../results/CD/\"\n",
    "dataset_dir = \"../datasets/FDP\""
   ]
  },
  {
   "cell_type": "code",
   "execution_count": 10,
   "metadata": {},
   "outputs": [],
   "source": [
    "for seed in os.listdir(results_dir):\n",
    "    with open(f'{seed}.csv', 'w', newline='') as file:\n",
    "        for phase in os.listdir(os.path.join(results_dir, seed)):\n",
    "            phase_col = \"test\" if phase == \"val_latest\" else phase.split(\"_\")[0]\n",
    "            for image_name in os.listdir(os.path.join(results_dir, seed, phase, \"images\")):\n",
    "                code = image_name.split(\"_\")[0]\n",
    "                    \n",
    "                im1 = cv2.imread(os.path.join(dataset_dir, code, code + \"_+0+0+0.png\"))\n",
    "                im2 = cv2.imread(os.path.join(results_dir, seed, phase, \"images\", image_name))\n",
    "                im2 = cv2.normalize(im2, None, 0, 255, norm_type=cv2.NORM_MINMAX)\n",
    "                \n",
    "                difference = np.abs(im1.astype(np.float32) - im2.astype(np.float32))[:, :, 0]\n",
    "                difference_image += difference\n",
    "    break"
   ]
  },
  {
   "cell_type": "code",
   "execution_count": null,
   "metadata": {},
   "outputs": [],
   "source": [
    "difference_image"
   ]
  }
 ],
 "metadata": {
  "kernelspec": {
   "display_name": "base",
   "language": "python",
   "name": "python3"
  },
  "language_info": {
   "codemirror_mode": {
    "name": "ipython",
    "version": 3
   },
   "file_extension": ".py",
   "mimetype": "text/x-python",
   "name": "python",
   "nbconvert_exporter": "python",
   "pygments_lexer": "ipython3",
   "version": "3.9.17"
  },
  "orig_nbformat": 4
 },
 "nbformat": 4,
 "nbformat_minor": 2
}
