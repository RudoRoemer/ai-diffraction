{
 "cells": [
  {
   "cell_type": "code",
   "execution_count": 1,
   "metadata": {},
   "outputs": [],
   "source": [
    "import os\n",
    "import sys\n",
    "import pathlib\n",
    "import torch\n",
    "import matplotlib.pyplot as plt\n",
    "import pandas as pd\n",
    "import seaborn as sns\n",
    "import numpy as np\n",
    "\n",
    "sys.path.append(os.path.abspath(os.path.join(\"..\")))\n"
   ]
  },
  {
   "cell_type": "code",
   "execution_count": 4,
   "metadata": {},
   "outputs": [],
   "source": [
    "df_space_groups = pd.read_csv(\"space_groups.csv\", index_col=\"ICSD_code\")"
   ]
  },
  {
   "cell_type": "code",
   "execution_count": 2,
   "metadata": {},
   "outputs": [],
   "source": [
    "save_dir = \"splits\\\\random\""
   ]
  },
  {
   "cell_type": "markdown",
   "metadata": {},
   "source": [
    "## random seeds"
   ]
  },
  {
   "cell_type": "code",
   "execution_count": 5,
   "metadata": {},
   "outputs": [],
   "source": [
    "indices = df_space_groups.index.tolist()\n",
    "for seed in range(10):\n",
    "    pathlib.Path(os.path.join(os.getcwd(), save_dir, f\"{seed}\")).mkdir(parents=True, exist_ok=True)\n",
    "\n",
    "    train, val, test = torch.utils.data.random_split(\n",
    "        indices, [0.8, 0.1, 0.1], torch.Generator().manual_seed(seed)\n",
    "        )\n",
    "    df = pd.DataFrame(list(train))\n",
    "    df.to_csv(os.path.join(os.getcwd(), save_dir, f\"{seed}\", \"train\"), index=False, header=False)\n",
    "    df = pd.DataFrame(list(val))\n",
    "    df.to_csv(os.path.join(os.getcwd(), save_dir, f\"{seed}\", \"val\"), index=False, header=False)\n",
    "    df = pd.DataFrame(list(test))\n",
    "    df.to_csv(os.path.join(os.getcwd(), save_dir, f\"{seed}\", \"test\"), index=False, header=False)\n"
   ]
  },
  {
   "cell_type": "markdown",
   "metadata": {},
   "source": [
    "## custom seeds"
   ]
  },
  {
   "cell_type": "markdown",
   "metadata": {},
   "source": [
    "exlcuding space groups"
   ]
  },
  {
   "cell_type": "code",
   "execution_count": 8,
   "metadata": {},
   "outputs": [
    {
     "name": "stderr",
     "output_type": "stream",
     "text": [
      "c:\\Users\\joe\\anaconda3\\lib\\site-packages\\torch\\utils\\data\\dataset.py:414: UserWarning: Length of split at index 1 is 0. This might result in an empty dataset.\n",
      "  warnings.warn(f\"Length of split at index {i} is 0. \"\n"
     ]
    }
   ],
   "source": [
    "for excluded in [\n",
    "\"F m -3 m\",\n",
    "\"P -4 3 n\",\n",
    "\"F -4 3 m\",\n",
    "\"I 2 3\",\n",
    "\"I -4 3 d\",\n",
    "\"I -4 3 m\",\n",
    "\"F d -3 m Z\",\n",
    "\"P a -3\",\n",
    "\"P 21 3\",\n",
    "\"I a -3 d\",\n",
    "\"F d -3 m S\",\n",
    "\"P 41 3 2\",\n",
    "\"P n -3 Z\",\n",
    "\"F d -3 Z\",\n",
    "\"P m -3 m\",\n",
    "\"I m -3\",\n",
    "\"P n -3 n Z\",\n",
    "\"I m -3 m\",\n",
    "\"P m -3\",\n",
    "\"P -4 3 m\",\n",
    "\"P m -3 n\",\n",
    "\"F 2 3\",\n",
    "\"F m -3 c\",\n",
    "\"F d -3 c Z\",\n",
    "\"I 21 3\",\n",
    "\"P 43 3 2\",\n",
    "\"F m -3\",\n",
    "\"I a -3\",\n",
    "\"P n -3 m Z\",\n",
    "\"F -4 3 c\",\n",
    "\"F 4 3 2\",\n",
    "\"I 4 3 2\",\n",
    "\"F 41 3 2\",\n",
    "\"I 41 3 2\",\n",
    "\"F d -3 S\",\n",
    "\"P n -3 m S\",\n",
    "\"P 2 3\",\n",
    "\"P 42 3 2\",\n",
    "\"P n -3 S\",\n",
    "\"P 4 3 2\",\n",
    "]:\n",
    "    pathlib.Path(os.path.join(os.getcwd(), save_dir, excluded)).mkdir(parents=True, exist_ok=True)\n",
    "\n",
    "    train = df_space_groups.loc[df_space_groups[\"space_group\"] != excluded].index.tolist()\n",
    "    val_test = df_space_groups.loc[df_space_groups[\"space_group\"] == excluded].index.tolist()\n",
    "    val, test = torch.utils.data.random_split(\n",
    "        val_test, [0.5, 0.5], torch.Generator().manual_seed(0)\n",
    "    )\n",
    "    df = pd.DataFrame(list(train))\n",
    "    df.to_csv(os.path.join(os.getcwd(), save_dir, excluded, \"train\"), index=False, header=False)\n",
    "    df = pd.DataFrame(list(val))\n",
    "    df.to_csv(os.path.join(os.getcwd(), save_dir, excluded, \"val\"), index=False, header=False)\n",
    "    df = pd.DataFrame(list(test))\n",
    "    df.to_csv(os.path.join(os.getcwd(), save_dir, excluded, \"test\"), index=False, header=False)"
   ]
  }
 ],
 "metadata": {
  "kernelspec": {
   "display_name": "felix-ml",
   "language": "python",
   "name": "python3"
  },
  "language_info": {
   "codemirror_mode": {
    "name": "ipython",
    "version": 3
   },
   "file_extension": ".py",
   "mimetype": "text/x-python",
   "name": "python",
   "nbconvert_exporter": "python",
   "pygments_lexer": "ipython3",
   "version": "3.12.1"
  },
  "orig_nbformat": 4
 },
 "nbformat": 4,
 "nbformat_minor": 2
}
