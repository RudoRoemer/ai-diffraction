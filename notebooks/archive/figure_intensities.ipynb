{
 "cells": [
  {
   "cell_type": "code",
   "execution_count": 25,
   "metadata": {},
   "outputs": [],
   "source": [
    "import numpy as np\n",
    "import pandas as pd\n",
    "import os\n",
    "import cv2\n",
    "import matplotlib as mpl\n",
    "import matplotlib.pyplot as plt\n",
    "#\n",
    "import scienceplots\n",
    "from cmcrameri import cm\n",
    "from collections import Counter\n",
    "\n",
    "plt.style.use([\"science\"])"
   ]
  },
  {
   "cell_type": "code",
   "execution_count": 73,
   "metadata": {},
   "outputs": [],
   "source": [
    "dataset_loc = \"../datasets/FDP\"\n",
    "data_loc_pattern = \"../results/pattern_random0/train_100/images/\"\n",
    "data_loc_structure = \"../results/structure_random0/train_100/images/\""
   ]
  },
  {
   "cell_type": "code",
   "execution_count": 74,
   "metadata": {},
   "outputs": [
    {
     "name": "stdout",
     "output_type": "stream",
     "text": [
      "163250176\n"
     ]
    }
   ],
   "source": [
    "intensities_pattern = []\n",
    "intensities_pattern_real = []\n",
    "intensities_structure_real = []\n",
    "intensities_structure = []\n",
    "\n",
    "for img_file in os.listdir(data_loc_pattern):\n",
    "    img = cv2.imread(os.path.join(data_loc_pattern, img_file))\n",
    "    intensities_pattern += list(img[:, :, 0].ravel())\n",
    "    ICSD_code = img_file.split(\"_\")[0]\n",
    "    img = cv2.imread(os.path.join(dataset_loc, ICDS_code, ICDS_code + \"_+0+0+0.png\"))\n",
    "    intensities_pattern_real += list(img[:, :, 0].ravel())\n",
    "\n",
    "for img_file in os.listdir(data_loc_structure):\n",
    "    img = cv2.imread(os.path.join(data_loc_structure, img_file))\n",
    "    intensities_structure += list(img[:, :, 0].ravel())\n",
    "    ICSD_code = img_file.split(\"_\")[0]\n",
    "    img = cv2.imread(os.path.join(dataset_loc, ICDS_code, ICDS_code + \"_structure.png\"))\n",
    "    intensities_structure_real += list(img[:, :, 0].ravel())\n",
    "\n",
    "intensities_pattern = np.array(intensities_pattern)\n",
    "intensities_structure = np.array(intensities_structure)\n",
    "intensities_pattern_real = np.array(intensities_pattern_real)\n",
    "intensities_structure_real = np.array(intensities_structure_real)\n",
    "\n",
    "\n",
    "count = len(intensities_pattern)\n",
    "print(len(intensities_pattern))\n"
   ]
  },
  {
   "cell_type": "code",
   "execution_count": 71,
   "metadata": {},
   "outputs": [],
   "source": [
    "counter_pattern = Counter(intensities_pattern)\n",
    "counter_structure = Counter(intensities_structure)\n",
    "counter_pattern_real = Counter(intensities_pattern_real)\n",
    "counter_structure_real = Counter(intensities_structure_real)"
   ]
  },
  {
   "cell_type": "code",
   "execution_count": 72,
   "metadata": {},
   "outputs": [
    {
     "data": {
      "image/png": "[encoded data removed]",
      "text/plain": [
       "<Figure size 350x262.5 with 4 Axes>"
      ]
     },
     "metadata": {},
     "output_type": "display_data"
    }
   ],
   "source": [
    "fig, axs = plt.subplots(2, 2, sharey=True, sharex=True)\n",
    "axs[0, 0].bar(counter_pattern.keys(), [v / 20398080 for v in counter_pattern.values()], width=1.0)\n",
    "axs[0, 1].bar([255 - v for v in counter_structure.keys()], [v / 20398080 for v in counter_structure.values()], width=1.0)\n",
    "axs[1, 0].bar(counter_pattern_real.keys(), [v / 20398080 for v in counter_pattern_real.values()], width=1.0)\n",
    "axs[1, 1].bar([255 - v for v in counter_structure_real.keys()], [v / 20398080 for v in counter_structure_real.values()], width=1.0)\n",
    "# axs[0].set_ylim([0, 0.15])\n",
    "axs[0, 0].set_xticks([0, 255])\n",
    "axs[0, 1].set_xticks([0, 255])\n",
    "axs[1, 0].set_xticks([0, 255])\n",
    "axs[1, 1].set_xticks([0, 255])\n",
    "\n",
    "fig.savefig('figures/intensities', dpi=1200)"
   ]
  }
 ],
 "metadata": {
  "kernelspec": {
   "display_name": "Python 3",
   "language": "python",
   "name": "python3"
  },
  "language_info": {
   "codemirror_mode": {
    "name": "ipython",
    "version": 3
   },
   "file_extension": ".py",
   "mimetype": "text/x-python",
   "name": "python",
   "nbconvert_exporter": "python",
   "pygments_lexer": "ipython3",
   "version": "3.12.2"
  }
 },
 "nbformat": 4,
 "nbformat_minor": 2
}
