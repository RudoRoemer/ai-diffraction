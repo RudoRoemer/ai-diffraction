{
 "cells": [
  {
   "cell_type": "code",
   "execution_count": 1,
   "metadata": {},
   "outputs": [],
   "source": [
    "import os\n",
    "import numpy as np\n",
    "import pandas as pd\n",
    "import cv2\n",
    "import re\n",
    "from sklearn.metrics import mean_squared_error as MSE"
   ]
  },
  {
   "cell_type": "code",
   "execution_count": 2,
   "metadata": {},
   "outputs": [],
   "source": [
    "results_dir = \"../results\"\n",
    "dataset_dir = \"../datasets/FDP\""
   ]
  },
  {
   "cell_type": "code",
   "execution_count": 4,
   "metadata": {},
   "outputs": [],
   "source": [
    "def ZMCC(A, B):\n",
    "    A = A - np.mean(A)\n",
    "    B = B - np.mean(B)\n",
    "    numerator = np.sum(np.multiply(A, B))\n",
    "    denominator = 2 * np.sqrt(np.sum(np.multiply(A, A)) * np.sum(np.multiply(B, B)))\n",
    "    if denominator == 0:\n",
    "        return 0.5\n",
    "    return 0.5 + numerator / denominator"
   ]
  },
  {
   "cell_type": "code",
   "execution_count": 4,
   "metadata": {},
   "outputs": [],
   "source": [
    "space_groups = pd.read_csv(\"space_groups.csv\")\n",
    "\n",
    "\n",
    "for seed in os.listdir(results_dir):\n",
    "    if re.match('^pattern.*', seed):\n",
    "        data = {\"code\": [], \"group\": [], \"seed\": [], \"phase\": [], \"epoch\": [], \"MSE\": []}\n",
    "        \n",
    "        for output in os.listdir(os.path.join(results_dir, seed)):\n",
    "            phase, epoch = output.split(\"_\")\n",
    "            if epoch != \"10\":\n",
    "                continue\n",
    "            for image in os.listdir(os.path.join(results_dir, seed, output, \"images\")):\n",
    "                code = image.split(\"_\")[0]\n",
    "                group = space_groups.loc[space_groups['ICSD_code'] == int(code), 'space_group'].iloc[0]\n",
    "                \n",
    "                fake = cv2.cvtColor(cv2.imread(\n",
    "                    os.path.join(results_dir, seed, output, \"images\", image)\n",
    "                ), cv2.COLOR_BGR2GRAY) / 255\n",
    "                \n",
    "                real = cv2.cvtColor(cv2.imread(\n",
    "                    os.path.join(dataset_dir, code, code + \"_+0+0+0.png\")\n",
    "                ), cv2.COLOR_BGR2GRAY) / 255\n",
    "            \n",
    "                M = MSE(fake, real)\n",
    "                \n",
    "                data[\"code\"].append(code)\n",
    "                data[\"group\"].append(group)\n",
    "                data[\"seed\"].append(seed)\n",
    "                data[\"phase\"].append(phase)\n",
    "                data[\"epoch\"].append(epoch)\n",
    "                data[\"MSE\"].append(M)\n",
    "\n",
    "        df_seed = pd.DataFrame(data)\n",
    "        df_seed.index.name = 'index'\n",
    "        df_seed.to_csv(f\"data{seed}.csv\")"
   ]
  },
  {
   "cell_type": "code",
   "execution_count": 5,
   "metadata": {},
   "outputs": [
    {
     "name": "stdout",
     "output_type": "stream",
     "text": [
      "['datapattern_random0.csv', 'datapattern_random1.csv', 'datapattern_random2.csv', 'datapattern_random3.csv', 'datapattern_random4.csv', 'datapattern_random5.csv', 'datapattern_random6.csv', 'datapattern_random7.csv', 'datapattern_random8.csv', 'datapattern_random9.csv', 'data_pattern_MSE.csv']\n"
     ]
    }
   ],
   "source": [
    "csvs = [\"data\"+x+\".csv\" for x in os.listdir(results_dir) if \"pattern\" in x]\n",
    "csvs.append(\"data_pattern_MSE.csv\")\n",
    "print(csvs)\n",
    "\n",
    "df = pd.concat(\n",
    "    map(pd.read_csv, csvs), ignore_index=True) \n",
    "df.to_csv(\"data_pattern_MSE_new.csv\") "
   ]
  },
  {
   "cell_type": "code",
   "execution_count": 6,
   "metadata": {},
   "outputs": [],
   "source": [
    "space_groups = pd.read_csv(\"space_groups.csv\")\n",
    "\n",
    "\n",
    "for seed in os.listdir(results_dir):\n",
    "    if re.match('^structure.*', seed):\n",
    "        data = {\"code\": [], \"group\": [], \"seed\": [], \"phase\": [], \"epoch\": [], \"MSE\": []}\n",
    "        \n",
    "        for output in os.listdir(os.path.join(results_dir, seed)):\n",
    "            phase, epoch = output.split(\"_\")\n",
    "            if epoch != \"10\":\n",
    "                continue\n",
    "            for image in os.listdir(os.path.join(results_dir, seed, output, \"images\")):\n",
    "                code = image.split(\"_\")[0]\n",
    "                group = space_groups.loc[space_groups['ICSD_code'] == int(code), 'space_group'].iloc[0]\n",
    "                \n",
    "                fake = cv2.cvtColor(cv2.imread(\n",
    "                    os.path.join(results_dir, seed, output, \"images\", image)\n",
    "                ), cv2.COLOR_BGR2GRAY) / 255\n",
    "                \n",
    "                real = cv2.cvtColor(cv2.imread(\n",
    "                    os.path.join(dataset_dir, code, code + \"_structure.png\")\n",
    "                ), cv2.COLOR_BGR2GRAY) / 255\n",
    "            \n",
    "                M = MSE(fake, real)\n",
    "                \n",
    "                data[\"code\"].append(code)\n",
    "                data[\"group\"].append(group)\n",
    "                data[\"seed\"].append(seed)\n",
    "                data[\"phase\"].append(phase)\n",
    "                data[\"epoch\"].append(epoch)\n",
    "                data[\"MSE\"].append(M)\n",
    "\n",
    "\n",
    "        df_seed = pd.DataFrame(data)\n",
    "        df_seed.index.name = 'index'\n",
    "        df_seed.to_csv(f\"data{seed}.csv\")\n"
   ]
  },
  {
   "cell_type": "code",
   "execution_count": 7,
   "metadata": {},
   "outputs": [
    {
     "name": "stdout",
     "output_type": "stream",
     "text": [
      "['datastructure_random0.csv', 'datastructure_random1.csv', 'datastructure_random2.csv', 'datastructure_random3.csv', 'data_structure_MSE.csv']\n"
     ]
    }
   ],
   "source": [
    "csvs = [\"data\"+x+\".csv\" for x in os.listdir(results_dir) if \"structure\" in x]\n",
    "csvs.append(\"data_structure_MSE.csv\")\n",
    "print(csvs)\n",
    "\n",
    "df = pd.concat( \n",
    "    map(pd.read_csv, csvs), ignore_index=True) \n",
    "df.to_csv(\"data_structure_MSE_new.csv\") "
   ]
  }
 ],
 "metadata": {
  "kernelspec": {
   "display_name": "Python 3",
   "language": "python",
   "name": "python3"
  },
  "language_info": {
   "codemirror_mode": {
    "name": "ipython",
    "version": 3
   },
   "file_extension": ".py",
   "mimetype": "text/x-python",
   "name": "python",
   "nbconvert_exporter": "python",
   "pygments_lexer": "ipython3",
   "version": "3.12.4"
  }
 },
 "nbformat": 4,
 "nbformat_minor": 2
}
