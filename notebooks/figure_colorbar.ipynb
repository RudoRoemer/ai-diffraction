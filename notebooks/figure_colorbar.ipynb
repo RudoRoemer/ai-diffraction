{
 "cells": [
  {
   "cell_type": "code",
   "execution_count": 1,
   "metadata": {},
   "outputs": [],
   "source": [
    "import numpy as np\n",
    "import pandas as pd\n",
    "import os\n",
    "import cv2\n",
    "from pathlib import Path\n",
    "import re\n",
    "\n",
    "import matplotlib as mpl\n",
    "import matplotlib.pyplot as plt\n",
    "#\n",
    "import scienceplots\n",
    "from cmcrameri import cm\n"
   ]
  },
  {
   "cell_type": "code",
   "execution_count": 34,
   "metadata": {},
   "outputs": [],
   "source": [
    "plt.style.use(['science', 'grid'])"
   ]
  },
  {
   "cell_type": "code",
   "execution_count": 38,
   "metadata": {},
   "outputs": [
    {
     "data": {
      "image/png": "[encoded data removed]",
      "text/plain": [
       "<Figure size 365x75 with 1 Axes>"
      ]
     },
     "metadata": {},
     "output_type": "display_data"
    }
   ],
   "source": [
    "cmap = cm.managua_r\n",
    "\n",
    "fig = plt.figure(figsize=(3.65, 0.75))\n",
    "ax = fig.add_axes([0.05, 0.80, 0.9, 0.1])\n",
    "\n",
    "cbar = mpl.colorbar.ColorbarBase(ax, orientation=\"horizontal\",\n",
    "    norm=mpl.colors.Normalize(0, 1),\n",
    "    cmap=cmap,\n",
    "    ticks=[0.0, 0.2, 0.4, 0.6, 0.8, 1.0])\n",
    "ax.xaxis.set_ticks_position('top')\n",
    "\n",
    "fig.savefig('figures/colorbar.png', bbox_inches='tight', pad_inches=0.0, dpi=1200)"
   ]
  }
 ],
 "metadata": {
  "kernelspec": {
   "display_name": "Python 3",
   "language": "python",
   "name": "python3"
  },
  "language_info": {
   "codemirror_mode": {
    "name": "ipython",
    "version": 3
   },
   "file_extension": ".py",
   "mimetype": "text/x-python",
   "name": "python",
   "nbconvert_exporter": "python",
   "pygments_lexer": "ipython3",
   "version": "3.12.1"
  }
 },
 "nbformat": 4,
 "nbformat_minor": 2
}
