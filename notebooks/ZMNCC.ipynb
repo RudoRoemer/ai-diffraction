{
 "cells": [
  {
   "cell_type": "markdown",
   "metadata": {},
   "source": [
    "# Zero Mean Normalized Cross-Correlation"
   ]
  },
  {
   "cell_type": "code",
   "execution_count": 439,
   "metadata": {},
   "outputs": [],
   "source": [
    "import numpy as np\n",
    "import numba as nb"
   ]
  },
  {
   "cell_type": "code",
   "execution_count": 440,
   "metadata": {},
   "outputs": [],
   "source": [
    "def ZMCC(A, B):\n",
    "    stdA = np.std(A)\n",
    "    stdB = np.std(B)\n",
    "    if stdA == 0 or stdB == 0:\n",
    "        return 0.5\n",
    "    A = (A - np.mean(A)) / stdA\n",
    "    B = (B - np.mean(B))  / stdB\n",
    "    return 0.5 + (1 / (2 * A.shape[0] * A.shape[0])) * np.sum(np.multiply(A, B))\n",
    "\n",
    "def ZMCC2(A, B):\n",
    "    A = A - np.mean(A)\n",
    "    B = B - np.mean(B)\n",
    "    numerator = np.sum(np.multiply(A, B))\n",
    "    denominator = 2 * np.sqrt(np.sum(np.multiply(A, A)) * np.sum(np.multiply(B, B)))\n",
    "    if denominator == 0:\n",
    "        return 0.5\n",
    "    return 0.5 + numerator / denominator"
   ]
  },
  {
   "cell_type": "code",
   "execution_count": 389,
   "metadata": {},
   "outputs": [],
   "source": [
    "import timeit"
   ]
  },
  {
   "cell_type": "code",
   "execution_count": 445,
   "metadata": {},
   "outputs": [
    {
     "name": "stdout",
     "output_type": "stream",
     "text": [
      "ZMCC: 6.854185699950904\n",
      "ZMCC2: 3.559882700035814\n",
      "ZMCC2_fast: 3.5780736000160687\n",
      "ZMCC2_fastest: 4.2394074000185356\n"
     ]
    }
   ],
   "source": [
    "A = np.random.random((128, 128))\n",
    "B = np.random.random((128, 128))\n",
    "\n",
    "def time_ZMCC():\n",
    "    ZMCC(A, B)\n",
    "\n",
    "def time_ZMCC2():\n",
    "    ZMCC2(A, B)\n",
    "\n",
    "print(f\"ZMCC: {timeit.timeit(time_ZMCC, number=40000)}\")\n",
    "print(f\"ZMCC2: {timeit.timeit(time_ZMCC2, number=40000)}\")"
   ]
  }
 ],
 "metadata": {
  "kernelspec": {
   "display_name": "Python 3",
   "language": "python",
   "name": "python3"
  },
  "language_info": {
   "codemirror_mode": {
    "name": "ipython",
    "version": 3
   },
   "file_extension": ".py",
   "mimetype": "text/x-python",
   "name": "python",
   "nbconvert_exporter": "python",
   "pygments_lexer": "ipython3",
   "version": "3.12.5"
  }
 },
 "nbformat": 4,
 "nbformat_minor": 2
}
