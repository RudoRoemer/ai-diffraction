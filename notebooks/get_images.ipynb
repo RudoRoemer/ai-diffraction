{
 "cells": [
  {
   "cell_type": "code",
   "execution_count": 75,
   "metadata": {},
   "outputs": [],
   "source": [
    "import os\n",
    "import numpy as np\n",
    "import pandas as pd\n",
    "import cv2\n",
    "import re\n",
    "import matplotlib.pyplot as plt\n",
    "from cmcrameri import cm\n",
    "from cmap import Colormap\n",
    "from PIL import Image\n",
    "from sklearn.metrics import mean_squared_error as MSE"
   ]
  },
  {
   "cell_type": "code",
   "execution_count": 28,
   "metadata": {},
   "outputs": [],
   "source": [
    "results_dir = \"../results\"\n",
    "dataset_dir = \"../datasets/FDP\""
   ]
  },
  {
   "cell_type": "code",
   "execution_count": 29,
   "metadata": {},
   "outputs": [],
   "source": [
    "def ZMCC(A, B):\n",
    "    A = A - np.mean(A)\n",
    "    B = B - np.mean(B)\n",
    "    numerator = np.sum(np.multiply(A, B))\n",
    "    denominator = 2 * np.sqrt(np.sum(np.multiply(A, A)) * np.sum(np.multiply(B, B)))\n",
    "    if denominator == 0:\n",
    "        return 0.5\n",
    "    return 0.5 + numerator / denominator"
   ]
  },
  {
   "cell_type": "code",
   "execution_count": 73,
   "metadata": {},
   "outputs": [],
   "source": [
    "def get_images(code, cmap, epoch=\"100\", pattern=True):\n",
    "    code = str(code)\n",
    "    space_groups = pd.read_csv(\"space_groups.csv\")\n",
    "    founds = []\n",
    "    for seed in os.listdir(results_dir):\n",
    "        n = seed[-1]\n",
    "        if pattern:\n",
    "            m = '^pattern.*'\n",
    "        else:\n",
    "            m = '^structure.*'\n",
    "        if re.match(m, seed):\n",
    "            for output in os.listdir(os.path.join(results_dir, seed)):\n",
    "                \n",
    "                if pattern:\n",
    "                    input_path = os.path.join(dataset_dir, code, code + \"_structure.png\")\n",
    "                    synth_path = os.path.join(results_dir, seed, output, \"images\", code + \"_structure_synthesized_image.png\")\n",
    "                    real_path = os.path.join(dataset_dir, code, code + \"_+0+0+0.png\")\n",
    "                else:\n",
    "                    input_path = os.path.join(dataset_dir, code, code + \"_+0+0+0.png\")\n",
    "                    synth_path = os.path.join(results_dir, seed, output, \"images\", code + \"_+0+0+0_synthesized_image.png\")\n",
    "                    real_path = os.path.join(dataset_dir, code, code + \"_structure.png\")\n",
    "                \n",
    "                # print(input_path, synth_path, real_path, sep=\"\\n\")\n",
    "                \n",
    "                if not os.path.exists(input_path):\n",
    "                    continue\n",
    "                \n",
    "                inpt = cv2.cvtColor(cv2.imread(input_path), cv2.COLOR_BGR2GRAY) / 255\n",
    "                im3 = cmap(inpt)[:, :, 0:3]\n",
    "\n",
    "                phase, e = output.split(\"_\")\n",
    "                if e != epoch or phase == \"train\":\n",
    "                    continue\n",
    "                \n",
    "                if not os.path.exists(synth_path):\n",
    "                    continue\n",
    "                \n",
    "                fake = cv2.cvtColor(cv2.imread(synth_path), cv2.COLOR_BGR2GRAY) / 255\n",
    "                real = cv2.cvtColor(cv2.imread(real_path), cv2.COLOR_BGR2GRAY) / 255\n",
    "                \n",
    "                Z = ZMCC(fake, real)\n",
    "                M = MSE(fake, real)\n",
    "                founds.append(Z)\n",
    "                print(code, phase, n, Z, M)\n",
    "                im1 = cmap(fake)[:, :, 0:3]\n",
    "                im2 = cmap(real)[:, :, 0:3]\n",
    "                os.makedirs(f\"codes/{code}\", exist_ok=1)\n",
    "                Image.fromarray((im3 * 255).astype(np.uint8), mode=\"RGB\").save(f\"codes/{code}/inpt.png\")\n",
    "                Image.fromarray((im1 * 255).astype(np.uint8), mode=\"RGB\").save(f\"codes/{code}/{n}_{e}_{Z:.5f}.png\")\n",
    "                Image.fromarray((im2 * 255).astype(np.uint8), mode=\"RGB\").save(f\"codes/{code}/real.png\")\n",
    "    # if (\n",
    "    #     len([x for x in founds if 0.7 < x < 0.8]) > 0 and\n",
    "    #     len([x for x in founds if 0.8 < x < 0.9]) > 0 and\n",
    "    #     len([x for x in founds if 0.9 < x < 0.95]) > 0):\n",
    "    #     print(code)\n"
   ]
  },
  {
   "cell_type": "code",
   "execution_count": 79,
   "metadata": {},
   "outputs": [
    {
     "name": "stdout",
     "output_type": "stream",
     "text": [
      "153466 val 0 0.9293946154151358 0.03283850693693531\n",
      "153466 test 2 0.8703395802662852 0.044170561089785176\n",
      "153466 val 9 0.7288837570611932 0.07021381030583188\n"
     ]
    }
   ],
   "source": [
    "cmap = Colormap(\"colorcet:cet_r3_r\").to_mpl()\n",
    "\n",
    "# for code in np.random.choice(os.listdir(os.path.join(dataset_dir)), 10000):\n",
    "#     get_images(code, cmap, pattern=True)\n",
    "\n",
    "# df = pd.read_csv(\"data_pattern.csv\", index_col=\"index\")\n",
    "# df_codes = df.query(\"ZMCC > 0.991 & ZMCC < 0.994\")[\"code\"]\n",
    "# code = \"24091\"\n",
    "# get_images(code, cmap)\n",
    "\n",
    "\n",
    "for code in [153466]:\n",
    "    get_images(code, cmap)"
   ]
  }
 ],
 "metadata": {
  "kernelspec": {
   "display_name": "Python 3",
   "language": "python",
   "name": "python3"
  },
  "language_info": {
   "codemirror_mode": {
    "name": "ipython",
    "version": 3
   },
   "file_extension": ".py",
   "mimetype": "text/x-python",
   "name": "python",
   "nbconvert_exporter": "python",
   "pygments_lexer": "ipython3",
   "version": "3.12.3"
  }
 },
 "nbformat": 4,
 "nbformat_minor": 2
}
