{
 "cells": [
  {
   "cell_type": "code",
   "execution_count": 2,
   "metadata": {},
   "outputs": [],
   "source": [
    "import numpy as np\n",
    "import pandas as pd\n",
    "import os\n",
    "import cv2\n",
    "from pathlib import Path\n",
    "import re\n",
    "\n",
    "import matplotlib as mpl\n",
    "import matplotlib.pyplot as plt\n",
    "#\n",
    "import scienceplots\n",
    "from cmap import Colormap\n"
   ]
  },
  {
   "cell_type": "code",
   "execution_count": 3,
   "metadata": {},
   "outputs": [],
   "source": [
    "plt.style.use(['science', 'scatter'])"
   ]
  },
  {
   "cell_type": "code",
   "execution_count": 5,
   "metadata": {},
   "outputs": [
    {
     "data": {
      "image/png": "[encoded data removed]",
      "text/plain": [
       "<Figure size 365x75 with 1 Axes>"
      ]
     },
     "metadata": {},
     "output_type": "display_data"
    }
   ],
   "source": [
    "cmap = Colormap(\"crameri:roma_r\").to_mpl()\n",
    "\n",
    "fig = plt.figure(figsize=(3.65, 0.75))\n",
    "ax = fig.add_axes([0.05, 0.80, 0.9, 0.1])\n",
    "\n",
    "cbar = mpl.colorbar.ColorbarBase(ax, orientation=\"horizontal\",\n",
    "    norm=mpl.colors.Normalize(0, 1),\n",
    "    cmap=cmap,\n",
    "    ticks=[0.0, 0.2, 0.4, 0.6, 0.8, 1.0])\n",
    "ax.xaxis.set_ticks_position('top')\n",
    "\n",
    "fig.savefig(\"figures/colorbar.pdf\", bbox_inches='tight', pad_inches=0.0, format=\"pdf\")"
   ]
  },
  {
   "cell_type": "code",
   "execution_count": 42,
   "metadata": {},
   "outputs": [
    {
     "data": {
      "image/png": "[encoded data removed]",
      "text/plain": [
       "<Figure size 365x75 with 1 Axes>"
      ]
     },
     "metadata": {},
     "output_type": "display_data"
    }
   ],
   "source": [
    "cmap = Colormap(\"colorbrewer:rdylgn_6_r\").to_mpl()\n",
    "\n",
    "fig = plt.figure(figsize=(3.65, 0.75))\n",
    "ax = fig.add_axes([0.05, 0.80, 0.9, 0.1])\n",
    "\n",
    "cbar = mpl.colorbar.ColorbarBase(ax, orientation=\"horizontal\",\n",
    "    norm=mpl.colors.Normalize(0, 0.06),\n",
    "    cmap=cmap,\n",
    "    ticks=[0.00, 0.03, 0.06]\n",
    ")\n",
    "ticks = [\"\\\\mathdefault{0.00}\", \"\\\\mathdefault{0.03}\", \"$\\\\ge\\\\mathdefault{0.06}$\"]\n",
    "cbar.ax.set_xticklabels(ticks)\n",
    "\n",
    "cbar.ax.minorticks_off()\n",
    "ax.xaxis.set_ticks_position('top')\n",
    "\n",
    "fig.savefig(\"figures/colorbar2.pdf\", bbox_inches='tight', pad_inches=0.0, format=\"pdf\")"
   ]
  }
 ],
 "metadata": {
  "kernelspec": {
   "display_name": "Python 3",
   "language": "python",
   "name": "python3"
  },
  "language_info": {
   "codemirror_mode": {
    "name": "ipython",
    "version": 3
   },
   "file_extension": ".py",
   "mimetype": "text/x-python",
   "name": "python",
   "nbconvert_exporter": "python",
   "pygments_lexer": "ipython3",
   "version": "3.12.3"
  }
 },
 "nbformat": 4,
 "nbformat_minor": 2
}
