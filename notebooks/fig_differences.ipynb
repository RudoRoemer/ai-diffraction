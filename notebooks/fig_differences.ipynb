{
 "cells": [
  {
   "cell_type": "code",
   "execution_count": 7,
   "metadata": {},
   "outputs": [],
   "source": [
    "import numpy as np\n",
    "import pandas as pd\n",
    "import os\n",
    "import cv2\n",
    "from pathlib import Path\n",
    "import matplotlib as mpl\n",
    "import matplotlib.pyplot as plt\n",
    "import re\n",
    "#\n",
    "import scienceplots\n",
    "from cmap import Colormap\n",
    "from PIL import Image"
   ]
  },
  {
   "cell_type": "code",
   "execution_count": 2,
   "metadata": {},
   "outputs": [],
   "source": [
    "plt.style.use(['science', 'grid'])"
   ]
  },
  {
   "cell_type": "code",
   "execution_count": 3,
   "metadata": {},
   "outputs": [],
   "source": [
    "df = pd.read_csv(\"data_pattern.csv\")\n",
    "groups = sorted(df.group.unique())\n",
    "space_groups = pd.read_csv(\"space_groups.csv\", index_col=\"ICSD_code\").to_dict()[\"space_group\"]"
   ]
  },
  {
   "cell_type": "code",
   "execution_count": 4,
   "metadata": {},
   "outputs": [],
   "source": [
    "dataset_dir = \"../datasets/FDP\"\n",
    "results_dir = \"../results\"\n",
    "\n",
    "differences = {group: np.zeros((128, 128)) for group in groups}\n",
    "differences_counts = {group: 0 for group in groups}\n",
    "\n",
    "for index, row in df.iterrows():\n",
    "    code = row[\"code\"]\n",
    "    group = row[\"group\"]\n",
    "    seed = row[\"seed\"]\n",
    "    phase = row[\"phase\"]\n",
    "    epoch = row[\"epoch\"]\n",
    "    if (phase == \"test\" or phase == \"val\") and epoch == 100:\n",
    "        fake = cv2.cvtColor(cv2.imread(\n",
    "            os.path.join(results_dir, seed, phase + \"_100\", \"images\", str(code) + \"_structure_synthesized_image.png\")\n",
    "        ), cv2.COLOR_BGR2GRAY) / 255\n",
    "        real = cv2.cvtColor(cv2.imread(\n",
    "            os.path.join(dataset_dir, str(code), str(code) + \"_+0+0+0.png\")\n",
    "        ), cv2.COLOR_BGR2GRAY) / 255\n",
    "        \n",
    "        diff = (real - fake)**2\n",
    "        \n",
    "        differences[group] += diff\n",
    "        differences_counts[group] += 1\n",
    "\n",
    "for group in groups:\n",
    "    differences[group] /= differences_counts[group]"
   ]
  },
  {
   "cell_type": "code",
   "execution_count": 5,
   "metadata": {},
   "outputs": [],
   "source": [
    "normalised = {}\n",
    "for group in groups:\n",
    "    normalised[group] =  differences[group] / np.max(differences[group])"
   ]
  },
  {
   "cell_type": "code",
   "execution_count": 19,
   "metadata": {},
   "outputs": [],
   "source": [
    "results_dirs = [os.path.join(\"../results\", d) for d in os.listdir(\"../results\") if re.match('^pattern.*', d)]\n",
    "dataset_dir = \"../datasets/FDP\"\n",
    "\n",
    "cmap = Colormap(\"colorbrewer:rdylgn_6_r\").to_mpl()\n",
    "\n",
    "for group in groups:\n",
    "    image = differences[group] * 16.66667\n",
    "    image_colour = cmap(image)\n",
    "    output = os.path.join(\"figures\", \"group differences\")\n",
    "    Path(output).mkdir(parents=True, exist_ok=True)\n",
    "\n",
    "    Image.fromarray((image_colour[:, :, 0:3] * 255).astype(np.uint8), mode=\"RGB\").save(os.path.join(output, group + \"_\" + f\"{np.max(differences[group]):.3f}\" + \".png\"))"
   ]
  },
  {
   "cell_type": "markdown",
   "metadata": {},
   "source": [
    "### We now repeat for structures"
   ]
  },
  {
   "cell_type": "code",
   "execution_count": 26,
   "metadata": {},
   "outputs": [
    {
     "name": "stderr",
     "output_type": "stream",
     "text": [
      "C:\\Users\\joe\\AppData\\Local\\Temp\\ipykernel_12052\\3578270824.py:35: RuntimeWarning: invalid value encountered in divide\n",
      "  differences[group] /= differences_counts[group]\n"
     ]
    }
   ],
   "source": [
    "# Ensure we are testing diffraction structure data\n",
    "df = pd.read_csv(\"data.csv\")\n",
    "df = df.loc[df.seed.str.match('^structure.*')]\n",
    "\n",
    "groups = sorted(df.group.unique())\n",
    "space_groups = pd.read_csv(\"space_groups.csv\", index_col=\"ICSD_code\").to_dict()[\"space_group\"]\n",
    "\n",
    "dataset_dir = \"../datasets/FDP\"\n",
    "results_dir = \"../results\"\n",
    "\n",
    "differences = {group: np.zeros((128, 128)) for group in groups}\n",
    "differences_counts = {group: 0 for group in groups}\n",
    "\n",
    "for index, row in df.iterrows():\n",
    "    code = row[\"code\"]\n",
    "    group = row[\"group\"]\n",
    "    seed = row[\"seed\"]\n",
    "    phase = row[\"phase\"]\n",
    "    epoch = row[\"epoch\"]\n",
    "    \n",
    "    if (phase == \"test\" or phase == \"val\") and epoch == 100:\n",
    "        fake = cv2.cvtColor(cv2.imread(\n",
    "            os.path.join(results_dir, seed, phase + \"_100\", \"images\", str(code) + \"_+0+0+0_synthesized_image.png\")\n",
    "        ), cv2.COLOR_BGR2GRAY) / 255\n",
    "        real = cv2.cvtColor(cv2.imread(\n",
    "            os.path.join(dataset_dir, str(code), str(code) + \"_structure.png\")\n",
    "        ), cv2.COLOR_BGR2GRAY) / 255\n",
    "        \n",
    "        diff = (real - fake)**2\n",
    "        \n",
    "        differences[group] += diff\n",
    "        differences_counts[group] += 1\n",
    "\n",
    "for group in groups:\n",
    "    differences[group] /= differences_counts[group]\n",
    "\n",
    "normalised = {}\n",
    "for group in groups:\n",
    "    normalised[group] =  differences[group] / np.max(differences[group])\n",
    "\n",
    "results_dirs = [os.path.join(\"../results\", d) for d in os.listdir(\"../results\") if re.match('^pattern.*', d)]\n",
    "dataset_dir = \"../datasets/FDP\"\n",
    "\n",
    "for group in groups:\n",
    "    image = normalised[group]\n",
    "    image_colour = cmap(image)\n",
    "    image_colour\n",
    "    output = os.path.join(\"figures\", \"group differences\")\n",
    "    Path(output).mkdir(parents=True, exist_ok=True)\n",
    "\n",
    "    cv2.imwrite(os.path.join(output, \"structure_\" + group + \"_\" + f\"{np.max(differences[group]):.3f}\" + \".png\"), image_colour * 255)"
   ]
  }
 ],
 "metadata": {
  "kernelspec": {
   "display_name": "Python 3",
   "language": "python",
   "name": "python3"
  },
  "language_info": {
   "codemirror_mode": {
    "name": "ipython",
    "version": 3
   },
   "file_extension": ".py",
   "mimetype": "text/x-python",
   "name": "python",
   "nbconvert_exporter": "python",
   "pygments_lexer": "ipython3",
   "version": "3.12.3"
  }
 },
 "nbformat": 4,
 "nbformat_minor": 2
}
