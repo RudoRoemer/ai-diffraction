{
 "cells": [
  {
   "cell_type": "code",
   "execution_count": 100,
   "metadata": {},
   "outputs": [],
   "source": [
    "import os\n",
    "import cv2\n",
    "import numba as nb\n",
    "import numpy as np\n",
    "import csv"
   ]
  },
  {
   "cell_type": "code",
   "execution_count": 10,
   "metadata": {},
   "outputs": [],
   "source": [
    "dataroot = \"D:/felix-ml/data/FDP\"\n",
    "results = \"D:/pix2pixHD/results/CD-to-LACBED/test_100/images\""
   ]
  },
  {
   "cell_type": "code",
   "execution_count": 97,
   "metadata": {},
   "outputs": [],
   "source": [
    "@nb.njit\n",
    "def MSE(im1, im2):\n",
    "    s = 0\n",
    "    for x in range(128):\n",
    "        for y in range(128):\n",
    "            difference = (im1[y, x] - im2[y, x]) / 256\n",
    "            s = s + difference*difference\n",
    "    return s / (128**2)"
   ]
  },
  {
   "cell_type": "code",
   "execution_count": 104,
   "metadata": {},
   "outputs": [],
   "source": [
    "with open('losses.csv', 'w', newline='') as file:\n",
    "    writer = csv.writer(file)\n",
    "    writer.writerow([\"ICSD\", \"0\"])\n",
    "    \n",
    "    for ICSD_code in os.listdir(dataroot):\n",
    "        im1 = cv2.cvtColor(cv2.imread(os.path.join(dataroot, ICSD_code, ICSD_code + \"_+0+0+0.png\")), cv2.COLOR_BGR2GRAY)\n",
    "        im2 = cv2.cvtColor(cv2.imread(os.path.join(results, ICSD_code + \"_synthesized_image.jpg\")), cv2.COLOR_BGR2GRAY)\n",
    "        writer.writerow([ICSD_code, MSE(im1.astype(np.int16), im2.astype(np.int16))])"
   ]
  }
 ],
 "metadata": {
  "kernelspec": {
   "display_name": "base",
   "language": "python",
   "name": "python3"
  },
  "language_info": {
   "codemirror_mode": {
    "name": "ipython",
    "version": 3
   },
   "file_extension": ".py",
   "mimetype": "text/x-python",
   "name": "python",
   "nbconvert_exporter": "python",
   "pygments_lexer": "ipython3",
   "version": "3.9.17"
  },
  "orig_nbformat": 4
 },
 "nbformat": 4,
 "nbformat_minor": 2
}
